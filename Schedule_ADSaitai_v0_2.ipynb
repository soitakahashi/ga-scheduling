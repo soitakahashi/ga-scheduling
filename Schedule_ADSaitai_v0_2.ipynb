{
  "nbformat": 4,
  "nbformat_minor": 0,
  "metadata": {
    "colab": {
      "name": "Schedule_ADSaitai_v0.2.ipynb",
      "provenance": [],
      "collapsed_sections": [],
      "include_colab_link": true
    },
    "kernelspec": {
      "name": "python3",
      "display_name": "Python 3"
    },
    "accelerator": "GPU"
  },
  "cells": [
    {
      "cell_type": "markdown",
      "metadata": {
        "id": "view-in-github",
        "colab_type": "text"
      },
      "source": [
        "<a href=\"https://colab.research.google.com/github/soitakahashi/ga-scheduling/blob/master/Schedule_ADSaitai_v0_2.ipynb\" target=\"_parent\"><img src=\"https://colab.research.google.com/assets/colab-badge.svg\" alt=\"Open In Colab\"/></a>"
      ]
    },
    {
      "cell_type": "code",
      "metadata": {
        "id": "9m53Nj1jN_sG",
        "colab_type": "code",
        "outputId": "57ffcf5e-5889-44b6-acb5-2c35fbb93c03",
        "colab": {
          "base_uri": "https://localhost:8080/",
          "height": 119
        }
      },
      "source": [
        "!pip install deap\n",
        "!pip3 install scoop"
      ],
      "execution_count": 55,
      "outputs": [
        {
          "output_type": "stream",
          "text": [
            "Requirement already satisfied: deap in /usr/local/lib/python3.6/dist-packages (1.3.0)\n",
            "Requirement already satisfied: numpy in /usr/local/lib/python3.6/dist-packages (from deap) (1.17.4)\n",
            "Requirement already satisfied: scoop in /usr/local/lib/python3.6/dist-packages (0.7.1.1)\n",
            "Requirement already satisfied: argparse>=1.1 in /usr/local/lib/python3.6/dist-packages (from scoop) (1.4.0)\n",
            "Requirement already satisfied: greenlet>=0.3.4 in /usr/local/lib/python3.6/dist-packages (from scoop) (0.4.15)\n",
            "Requirement already satisfied: pyzmq>=13.1.0 in /usr/local/lib/python3.6/dist-packages (from scoop) (17.0.0)\n"
          ],
          "name": "stdout"
        }
      ]
    },
    {
      "cell_type": "code",
      "metadata": {
        "id": "RC6HN1efCUaQ",
        "colab_type": "code",
        "colab": {}
      },
      "source": [
        "import random\n",
        "from scoop import futures\n",
        "\n",
        "from deap import base\n",
        "from deap import creator\n",
        "from deap import tools\n",
        "from deap import cma\n",
        "\n",
        "from google.colab import files\n",
        "import pandas as pd\n",
        "import numpy as np"
      ],
      "execution_count": 0,
      "outputs": []
    },
    {
      "cell_type": "code",
      "metadata": {
        "id": "voVxxTlrOQnU",
        "colab_type": "code",
        "colab": {}
      },
      "source": [
        "# 従業員を表すクラス\n",
        "class Employee(object):\n",
        "  def __init__(self, no, name, priority, prevcount, sex, general, wills, costs):\n",
        "    self.no = no\n",
        "    self.name = name\n",
        "    self.priority = priority\n",
        "    self.prevcount = prevcount\n",
        "    self.sex = sex\n",
        "    self.general = general\n",
        "    self.wills = wills\n",
        "    self.costs = costs\n",
        "\n",
        "  def get_cost(self, box_index):\n",
        "    return(self.costs[box_index])\n",
        "    # return(self.costs[SHIFT_BOXES.index(box_name)])\n",
        "\n",
        "  def is_applicated(self, box_name):\n",
        "    return (box_name in self.wills)"
      ],
      "execution_count": 0,
      "outputs": []
    },
    {
      "cell_type": "code",
      "metadata": {
        "id": "FrMobT7mbAbF",
        "colab_type": "code",
        "colab": {}
      },
      "source": [
        "  # インプットパラメータの定義\n",
        "  DURATION_DAYS = 10\n",
        "  DAYS_PER_PEOPLE = 2\n",
        "\n",
        "  POPULATION_GROUP = 40\n"
      ],
      "execution_count": 0,
      "outputs": []
    },
    {
      "cell_type": "code",
      "metadata": {
        "id": "hYWcVe0nOlQh",
        "colab_type": "code",
        "colab": {}
      },
      "source": [
        "# シフトを表すクラス\n",
        "# 内部的には 3(朝昼晩) * 7日 * 10人 = 210次元のタプルで構成される\n",
        "class Shift(object):\n",
        "\n",
        "  SHIFT_BOXES = []\n",
        "  for i in range(DURATION_DAYS):\n",
        "    SHIFT_BOXES.append('d' + str(i))\n",
        "\n",
        "  # 各コマの想定人数\n",
        "  NEED_PEOPLE = [DAYS_PER_PEOPLE] * DURATION_DAYS\n",
        "\n",
        "  def __init__(self, list):\n",
        "    if list == None:\n",
        "      self.make_sample()\n",
        "    else:\n",
        "      self.list = list\n",
        "    self.employees = []\n",
        "\n",
        "  # ランダムなデータを生成\n",
        "  def make_sample(self):\n",
        "    sample_list = []\n",
        "    for num in range(DURATION_DAYS * POPULATION_GROUP):\n",
        "      sample_list.append(random.randint(0, 1))\n",
        "    self.list = tuple(sample_list)\n",
        "\n",
        "  # タプルを1ユーザ単位に分割\n",
        "  def slice(self):\n",
        "    sliced = []\n",
        "    start = 0\n",
        "    for num in range(POPULATION_GROUP):\n",
        "      sliced.append(self.list[start:(start + DURATION_DAYS)])\n",
        "      start = start + DURATION_DAYS\n",
        "    return tuple(sliced)\n",
        "\n",
        "  # ユーザ別にアサインコマ名を出力する\n",
        "  def print_inspect(self):\n",
        "    user_no = 0\n",
        "    for line in self.slice():\n",
        "      printf(\"ユーザ%d\" % user_no)\n",
        "      print(line)\n",
        "      user_no = user_no + 1\n",
        "\n",
        "      index = 0\n",
        "      for e in line:\n",
        "        if e == 1:\n",
        "          print(self.SHIFT_BOXES[index])\n",
        "        index = index + 1\n",
        "\n",
        "  # CSV形式でアサイン結果の出力をする\n",
        "  def print_csv(self):\n",
        "    for line in self.slice():\n",
        "      print(','.join(map(str, line)))\n",
        "\n",
        "  # TSV形式でアサイン結果の出力をする\n",
        "  def print_tsv(self):\n",
        "    for line in self.slice():\n",
        "      print(\"\\t\".join(map(str, line)))\n",
        "\n",
        "  # ユーザ番号を指定してコマ名を取得する\n",
        "  def get_boxes_by_user(self, user_no):\n",
        "    line = self.slice()[user_no]\n",
        "    return self.line_to_box(line)\n",
        "\n",
        "  # 1ユーザ分のタプルからコマ名を取得する\n",
        "  def line_to_box(self, line):\n",
        "    result = []\n",
        "    index = 0\n",
        "    for e in line:\n",
        "      if e == 1:\n",
        "        result.append(self.SHIFT_BOXES[index])\n",
        "      index = index + 1\n",
        "    return result    \n",
        "\n",
        "  # コマ番号を指定してアサインされているユーザ番号リストを取得する\n",
        "  def get_user_nos_by_box_index(self, box_index):\n",
        "    user_nos = []\n",
        "    index = 0\n",
        "    for line in self.slice():\n",
        "      if line[box_index] == 1:\n",
        "        user_nos.append(index)\n",
        "      index += 1\n",
        "    return user_nos\n",
        "\n",
        "  # コマ名を指定してアサインされているユーザ番号リストを取得する\n",
        "  def get_user_nos_by_box_name(self, box_name):\n",
        "    box_index = self.SHIFT_BOXES.index(box_name)\n",
        "    return self.get_user_nos_by_box_index(box_index)\n",
        "\n",
        "  # 想定人数と実際の人数の差分を取得する\n",
        "  def abs_people_between_need_and_actual(self):\n",
        "    result = []\n",
        "    index = 0\n",
        "    for need in self.NEED_PEOPLE:\n",
        "      actual = len(self.get_user_nos_by_box_index(index))\n",
        "      result.append(abs(need - actual))\n",
        "      index += 1\n",
        "    return result\n",
        "\n",
        "  # 調整コストの量を取得する\n",
        "  def sum_total_cost(self):\n",
        "    count = 0\n",
        "    for box_name in self.SHIFT_BOXES:\n",
        "      user_nos = self.get_user_nos_by_box_name(box_name)\n",
        "      for user_no in user_nos:\n",
        "        e = self.employees[user_no]\n",
        "        count += e.get_cost(self.SHIFT_BOXES.index(box_name))\n",
        "    return count\n",
        "\n",
        "  # 過去の参加回数の総量を取得する\n",
        "  def sum_previous_count(self):\n",
        "    count = 0\n",
        "    for box_name in self.SHIFT_BOXES:\n",
        "      user_nos = self.get_user_nos_by_box_name(box_name)\n",
        "      for user_no in user_nos:\n",
        "        e = self.employees[user_no]\n",
        "        count += e.prevcount\n",
        "    return count\n",
        "\n",
        "  # 優先度の総量を取得する\n",
        "  def sum_priority(self):\n",
        "    count = 0\n",
        "    for box_name in self.SHIFT_BOXES:\n",
        "      user_nos = self.get_user_nos_by_box_name(box_name)\n",
        "      for user_no in user_nos:\n",
        "        e = self.employees[user_no]\n",
        "        count += e.priority\n",
        "    return count\n",
        "\n",
        "  # 応募していないコマにアサインされている件数を取得する\n",
        "  def not_applicated_assign(self):\n",
        "    count = 0\n",
        "    for box_name in self.SHIFT_BOXES:\n",
        "      user_nos = self.get_user_nos_by_box_name(box_name)\n",
        "      for user_no in user_nos:\n",
        "        e = self.employees[user_no]\n",
        "        if not e.is_applicated(box_name):\n",
        "          count += 1\n",
        "    return count\n",
        "\n",
        "  # 同一期間中に2回以上参加している人を取得する\n",
        "  def multi_assigned_user(self):\n",
        "    result = []\n",
        "    for user_no in range(POPULATION_GROUP):\n",
        "      if sum(self.slice()[user_no]) > 1:\n",
        "        result.append(user_no)\n",
        "    return len(result)\n"
      ],
      "execution_count": 0,
      "outputs": []
    },
    {
      "cell_type": "code",
      "metadata": {
        "id": "oBu9uAp5ruwA",
        "colab_type": "code",
        "colab": {
          "resources": {
            "http://localhost:8080/nbextensions/google.colab/files.js": {
              "data": "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",
              "ok": true,
              "headers": [
                [
                  "content-type",
                  "application/javascript"
                ]
              ],
              "status": 200,
              "status_text": ""
            }
          },
          "base_uri": "https://localhost:8080/",
          "height": 79
        },
        "outputId": "eb1efc5b-ff0d-4eff-b11d-4dc260f69607"
      },
      "source": [
        "uploaded = files.upload()\n",
        "file_name = list(uploaded.keys())[0]\n",
        "df = pd.read_csv(file_name, dtype={'name': str})\n",
        "df_np = np.asarray(df)\n",
        "employees=[]\n",
        "for no,name,priority,prevcount,sex,general,wills,costs in df_np:\n",
        "  employees.append(Employee(no,name,priority,prevcount,sex,general,eval(wills),eval(costs)))"
      ],
      "execution_count": 60,
      "outputs": [
        {
          "output_type": "display_data",
          "data": {
            "text/html": [
              "\n",
              "     <input type=\"file\" id=\"files-676b76f3-74e0-4677-8fea-59ab32f66074\" name=\"files[]\" multiple disabled />\n",
              "     <output id=\"result-676b76f3-74e0-4677-8fea-59ab32f66074\">\n",
              "      Upload widget is only available when the cell has been executed in the\n",
              "      current browser session. Please rerun this cell to enable.\n",
              "      </output>\n",
              "      <script src=\"/nbextensions/google.colab/files.js\"></script> "
            ],
            "text/plain": [
              "<IPython.core.display.HTML object>"
            ]
          },
          "metadata": {
            "tags": []
          }
        },
        {
          "output_type": "stream",
          "text": [
            "Saving employees.csv to employees (21).csv\n"
          ],
          "name": "stdout"
        }
      ]
    },
    {
      "cell_type": "code",
      "metadata": {
        "id": "a6euey2bC23h",
        "colab_type": "code",
        "outputId": "db50a425-52b3-4f1e-9a82-89f23649d0c7",
        "colab": {
          "base_uri": "https://localhost:8080/",
          "height": 85
        }
      },
      "source": [
        "creator.create(\"FitnessPeopleCount\", base.Fitness, weights=(-10.0, -100.0, -10.0, -10.0, -10.0, -50.0))\n",
        "creator.create(\"Individual\", list, fitness=creator.FitnessPeopleCount)\n",
        "\n",
        "toolbox = base.Toolbox()\n",
        "\n",
        "toolbox.register(\"map\", futures.map)\n",
        "\n",
        "toolbox.register(\"attr_bool\", random.randint, 0, 1)\n",
        "toolbox.register(\"individual\", tools.initRepeat, creator.Individual, toolbox.attr_bool, (DURATION_DAYS * POPULATION_GROUP))\n",
        "toolbox.register(\"population\", tools.initRepeat, list, toolbox.individual)"
      ],
      "execution_count": 61,
      "outputs": [
        {
          "output_type": "stream",
          "text": [
            "/usr/local/lib/python3.6/dist-packages/deap/creator.py:141: RuntimeWarning: A class named 'FitnessPeopleCount' has already been created and it will be overwritten. Consider deleting previous creation of that class or rename it.\n",
            "  RuntimeWarning)\n",
            "/usr/local/lib/python3.6/dist-packages/deap/creator.py:141: RuntimeWarning: A class named 'Individual' has already been created and it will be overwritten. Consider deleting previous creation of that class or rename it.\n",
            "  RuntimeWarning)\n"
          ],
          "name": "stderr"
        }
      ]
    },
    {
      "cell_type": "code",
      "metadata": {
        "id": "eA0mBkPUEHR-",
        "colab_type": "code",
        "colab": {}
      },
      "source": [
        "def evalShift(individual):\n",
        "  s = Shift(individual)\n",
        "  s.employees = employees\n",
        "\n",
        "  # 想定人数とアサイン人数の差\n",
        "  people_count_sub_sum = sum(s.abs_people_between_need_and_actual())\n",
        "  # 応募していない時間帯へのアサイン数\n",
        "  not_applicated_count = s.not_applicated_assign()\n",
        "  # 調整コストの総量\n",
        "  total_cost = s.sum_total_cost() / (POPULATION_GROUP)\n",
        "  # 過去の参加回数の総量\n",
        "  previous_count = s.sum_previous_count() / (POPULATION_GROUP)\n",
        "  # 優先度の総量\n",
        "  total_priority = s.sum_priority() / (POPULATION_GROUP)\n",
        "  # 2回以上アサインされた人数\n",
        "  people_count_multi_assign = s.multi_assigned_user()\n",
        "\n",
        "  return (not_applicated_count, people_count_sub_sum, total_cost, previous_count, total_priority, people_count_multi_assign)\n"
      ],
      "execution_count": 0,
      "outputs": []
    },
    {
      "cell_type": "code",
      "metadata": {
        "id": "7lOzw8e2EJ4O",
        "colab_type": "code",
        "colab": {}
      },
      "source": [
        "toolbox.register(\"evaluate\", evalShift)\n",
        "# 交叉関数を定義(二点交叉)\n",
        "toolbox.register(\"mate\", tools.cxTwoPoint)\n",
        "\n",
        "# 変異関数を定義(ビット反転、変異隔離が5%)\n",
        "toolbox.register(\"mutate\", tools.mutFlipBit, indpb=0.05)\n",
        "\n",
        "# 選択関数を定義(トーナメント選択、tournsizeはトーナメントの数？)\n",
        "toolbox.register(\"select\", tools.selTournament, tournsize=3)"
      ],
      "execution_count": 0,
      "outputs": []
    },
    {
      "cell_type": "code",
      "metadata": {
        "id": "q5TNun-KEMX7",
        "colab_type": "code",
        "outputId": "715cef7e-58a4-49df-ad79-24c75d7f888a",
        "colab": {
          "base_uri": "https://localhost:8080/",
          "height": 396
        }
      },
      "source": [
        "if __name__ == '__main__':\n",
        "    # 初期集団を生成する\n",
        "    pop = toolbox.population(n=300)\n",
        "    CXPB, MUTPB, NGEN = 0.6, 0.5, 3000 # 交叉確率、突然変異確率、進化計算のループ回数\n",
        "\n",
        "    print(\"進化開始\")\n",
        "\n",
        "    # 初期集団の個体を評価する\n",
        "    fitnesses = list(map(toolbox.evaluate, pop))\n",
        "    for ind, fit in zip(pop, fitnesses):  # zipは複数変数の同時ループ\n",
        "        # 適合性をセットする\n",
        "        ind.fitness.values = fit\n",
        "\n",
        "    print(\"  %i の個体を評価\" % len(pop))\n",
        "\n",
        "     # 進化計算開始\n",
        "    for g in range(NGEN):\n",
        "        print(\"-- %i 世代 --\" % g)\n",
        "\n",
        "        # 選択\n",
        "        # 次世代の個体群を選択\n",
        "        offspring = toolbox.select(pop, len(pop))\n",
        "        # 個体群のクローンを生成\n",
        "        offspring = list(map(toolbox.clone, offspring))\n",
        "\n",
        "        # 選択した個体群に交差と突然変異を適応する\n",
        "\n",
        "        # 交叉\n",
        "        # 偶数番目と奇数番目の個体を取り出して交差\n",
        "        for child1, child2 in zip(offspring[::2], offspring[1::2]):\n",
        "            if random.random() < CXPB:\n",
        "                toolbox.mate(child1, child2)\n",
        "                # 交叉された個体の適合度を削除する\n",
        "                del child1.fitness.values\n",
        "                del child2.fitness.values\n",
        "\n",
        "        # 変異\n",
        "        for mutant in offspring:\n",
        "            if random.random() < MUTPB:\n",
        "                toolbox.mutate(mutant)\n",
        "                del mutant.fitness.values\n",
        "\n",
        "        # 適合度が計算されていない個体を集めて適合度を計算\n",
        "        invalid_ind = [ind for ind in offspring if not ind.fitness.valid]\n",
        "        fitnesses = map(toolbox.evaluate, invalid_ind)\n",
        "        for ind, fit in zip(invalid_ind, fitnesses):\n",
        "            ind.fitness.values = fit\n",
        "\n",
        "        print(\"  %i の個体を評価\" % len(invalid_ind))\n",
        "\n",
        "        # 次世代群をoffspringにする\n",
        "        pop[:] = offspring\n",
        "\n",
        "        # すべての個体の適合度を配列にする\n",
        "        index = 1\n",
        "        for v in ind.fitness.values:\n",
        "          fits = [v for ind in pop]\n",
        "\n",
        "          length = len(pop)\n",
        "          mean = sum(fits) / length\n",
        "          sum2 = sum(x*x for x in fits)\n",
        "          std = abs(sum2 / length - mean**2)**0.5\n",
        "\n",
        "          print(\"* パラメータ%d\" % index)\n",
        "          print(\"  Min %s\" % min(fits))\n",
        "          print(\"  Max %s\" % max(fits))\n",
        "          print(\"  Avg %s\" % mean)\n",
        "          print(\"  Std %s\" % std)\n",
        "          index += 1\n",
        "\n",
        "    print(\"-- 進化終了 --\")\n",
        "\n",
        "    best_ind = tools.selBest(pop, 1)[0]\n",
        "    print(\"最も優れていた個体: %s, %s\" % (best_ind, best_ind.fitness.values))\n",
        "    s = Shift(best_ind)\n",
        "    s.print_csv()\n",
        "    s.print_tsv()"
      ],
      "execution_count": 64,
      "outputs": [
        {
          "output_type": "stream",
          "text": [
            "進化開始\n"
          ],
          "name": "stdout"
        },
        {
          "output_type": "error",
          "ename": "IndexError",
          "evalue": "ignored",
          "traceback": [
            "\u001b[0;31m---------------------------------------------------------------------------\u001b[0m",
            "\u001b[0;31mIndexError\u001b[0m                                Traceback (most recent call last)",
            "\u001b[0;32m<ipython-input-64-af001aac3f76>\u001b[0m in \u001b[0;36m<module>\u001b[0;34m()\u001b[0m\n\u001b[1;32m      7\u001b[0m \u001b[0;34m\u001b[0m\u001b[0m\n\u001b[1;32m      8\u001b[0m     \u001b[0;31m# 初期集団の個体を評価する\u001b[0m\u001b[0;34m\u001b[0m\u001b[0;34m\u001b[0m\u001b[0;34m\u001b[0m\u001b[0m\n\u001b[0;32m----> 9\u001b[0;31m     \u001b[0mfitnesses\u001b[0m \u001b[0;34m=\u001b[0m \u001b[0mlist\u001b[0m\u001b[0;34m(\u001b[0m\u001b[0mmap\u001b[0m\u001b[0;34m(\u001b[0m\u001b[0mtoolbox\u001b[0m\u001b[0;34m.\u001b[0m\u001b[0mevaluate\u001b[0m\u001b[0;34m,\u001b[0m \u001b[0mpop\u001b[0m\u001b[0;34m)\u001b[0m\u001b[0;34m)\u001b[0m\u001b[0;34m\u001b[0m\u001b[0;34m\u001b[0m\u001b[0m\n\u001b[0m\u001b[1;32m     10\u001b[0m     \u001b[0;32mfor\u001b[0m \u001b[0mind\u001b[0m\u001b[0;34m,\u001b[0m \u001b[0mfit\u001b[0m \u001b[0;32min\u001b[0m \u001b[0mzip\u001b[0m\u001b[0;34m(\u001b[0m\u001b[0mpop\u001b[0m\u001b[0;34m,\u001b[0m \u001b[0mfitnesses\u001b[0m\u001b[0;34m)\u001b[0m\u001b[0;34m:\u001b[0m  \u001b[0;31m# zipは複数変数の同時ループ\u001b[0m\u001b[0;34m\u001b[0m\u001b[0;34m\u001b[0m\u001b[0m\n\u001b[1;32m     11\u001b[0m         \u001b[0;31m# 適合性をセットする\u001b[0m\u001b[0;34m\u001b[0m\u001b[0;34m\u001b[0m\u001b[0;34m\u001b[0m\u001b[0m\n",
            "\u001b[0;32m<ipython-input-62-67dd12b992b7>\u001b[0m in \u001b[0;36mevalShift\u001b[0;34m(individual)\u001b[0m\n\u001b[1;32m      6\u001b[0m   \u001b[0mpeople_count_sub_sum\u001b[0m \u001b[0;34m=\u001b[0m \u001b[0msum\u001b[0m\u001b[0;34m(\u001b[0m\u001b[0ms\u001b[0m\u001b[0;34m.\u001b[0m\u001b[0mabs_people_between_need_and_actual\u001b[0m\u001b[0;34m(\u001b[0m\u001b[0;34m)\u001b[0m\u001b[0;34m)\u001b[0m\u001b[0;34m\u001b[0m\u001b[0;34m\u001b[0m\u001b[0m\n\u001b[1;32m      7\u001b[0m   \u001b[0;31m# 応募していない時間帯へのアサイン数\u001b[0m\u001b[0;34m\u001b[0m\u001b[0;34m\u001b[0m\u001b[0;34m\u001b[0m\u001b[0m\n\u001b[0;32m----> 8\u001b[0;31m   \u001b[0mnot_applicated_count\u001b[0m \u001b[0;34m=\u001b[0m \u001b[0ms\u001b[0m\u001b[0;34m.\u001b[0m\u001b[0mnot_applicated_assign\u001b[0m\u001b[0;34m(\u001b[0m\u001b[0;34m)\u001b[0m\u001b[0;34m\u001b[0m\u001b[0;34m\u001b[0m\u001b[0m\n\u001b[0m\u001b[1;32m      9\u001b[0m   \u001b[0;31m# 調整コストの総量\u001b[0m\u001b[0;34m\u001b[0m\u001b[0;34m\u001b[0m\u001b[0;34m\u001b[0m\u001b[0m\n\u001b[1;32m     10\u001b[0m   \u001b[0mtotal_cost\u001b[0m \u001b[0;34m=\u001b[0m \u001b[0ms\u001b[0m\u001b[0;34m.\u001b[0m\u001b[0msum_total_cost\u001b[0m\u001b[0;34m(\u001b[0m\u001b[0;34m)\u001b[0m \u001b[0;34m/\u001b[0m \u001b[0;34m(\u001b[0m\u001b[0mPOPULATION_GROUP\u001b[0m\u001b[0;34m)\u001b[0m\u001b[0;34m\u001b[0m\u001b[0;34m\u001b[0m\u001b[0m\n",
            "\u001b[0;32m<ipython-input-59-f58d0a8f39b2>\u001b[0m in \u001b[0;36mnot_applicated_assign\u001b[0;34m(self)\u001b[0m\n\u001b[1;32m    131\u001b[0m       \u001b[0muser_nos\u001b[0m \u001b[0;34m=\u001b[0m \u001b[0mself\u001b[0m\u001b[0;34m.\u001b[0m\u001b[0mget_user_nos_by_box_name\u001b[0m\u001b[0;34m(\u001b[0m\u001b[0mbox_name\u001b[0m\u001b[0;34m)\u001b[0m\u001b[0;34m\u001b[0m\u001b[0;34m\u001b[0m\u001b[0m\n\u001b[1;32m    132\u001b[0m       \u001b[0;32mfor\u001b[0m \u001b[0muser_no\u001b[0m \u001b[0;32min\u001b[0m \u001b[0muser_nos\u001b[0m\u001b[0;34m:\u001b[0m\u001b[0;34m\u001b[0m\u001b[0;34m\u001b[0m\u001b[0m\n\u001b[0;32m--> 133\u001b[0;31m         \u001b[0me\u001b[0m \u001b[0;34m=\u001b[0m \u001b[0mself\u001b[0m\u001b[0;34m.\u001b[0m\u001b[0memployees\u001b[0m\u001b[0;34m[\u001b[0m\u001b[0muser_no\u001b[0m\u001b[0;34m]\u001b[0m\u001b[0;34m\u001b[0m\u001b[0;34m\u001b[0m\u001b[0m\n\u001b[0m\u001b[1;32m    134\u001b[0m         \u001b[0;32mif\u001b[0m \u001b[0;32mnot\u001b[0m \u001b[0me\u001b[0m\u001b[0;34m.\u001b[0m\u001b[0mis_applicated\u001b[0m\u001b[0;34m(\u001b[0m\u001b[0mbox_name\u001b[0m\u001b[0;34m)\u001b[0m\u001b[0;34m:\u001b[0m\u001b[0;34m\u001b[0m\u001b[0;34m\u001b[0m\u001b[0m\n\u001b[1;32m    135\u001b[0m           \u001b[0mcount\u001b[0m \u001b[0;34m+=\u001b[0m \u001b[0;36m1\u001b[0m\u001b[0;34m\u001b[0m\u001b[0;34m\u001b[0m\u001b[0m\n",
            "\u001b[0;31mIndexError\u001b[0m: list index out of range"
          ]
        }
      ]
    },
    {
      "cell_type": "code",
      "metadata": {
        "id": "mfKtdHqzERo7",
        "colab_type": "code",
        "colab": {}
      },
      "source": [
        ""
      ],
      "execution_count": 0,
      "outputs": []
    },
    {
      "cell_type": "code",
      "metadata": {
        "id": "uQJ0Bxmdlmm6",
        "colab_type": "code",
        "colab": {}
      },
      "source": [
        "print(s.abs_people_between_need_and_actual())\n",
        "# print(s.not_applicated_assign() / (DURATION_DAYS * POPULATION_GROUP))\n",
        "# print( s.sum_total_cost() / (DURATION_DAYS * POPULATION_GROUP))\n",
        "# print(s.sum_previous_count() / (DURATION_DAYS * POPULATION_GROUP))\n",
        "# print( s.sum_priority() / (DURATION_DAYS * POPULATION_GROUP))\n",
        "print( s.multi_assigned_user())\n"
      ],
      "execution_count": 0,
      "outputs": []
    },
    {
      "cell_type": "code",
      "metadata": {
        "id": "dQhPZljsD5y-",
        "colab_type": "code",
        "colab": {}
      },
      "source": [
        "user_no = 0\n",
        "ans = []\n",
        "for i in s.slice():\n",
        "  cnt = 0\n",
        "  for j in i:\n",
        "    if j == 1:\n",
        "      tmp = []\n",
        "      tmp.append(\"d\" + str(cnt))\n",
        "      tmp.append(employees[user_no].name)\n",
        "      tmp.append(employees[user_no].prevcount)\n",
        "      tmp.append(employees[user_no].priority)\n",
        "      tmp.append(employees[user_no].costs[cnt])\n",
        "      tmp.append((\"d\" + str(cnt)) in employees[user_no].wills)\n",
        "      ans.append(tmp)\n",
        "    cnt += 1\n",
        "  user_no += 1\n",
        "print(ans)"
      ],
      "execution_count": 0,
      "outputs": []
    }
  ]
}